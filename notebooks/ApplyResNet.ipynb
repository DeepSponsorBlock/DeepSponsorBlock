{
 "cells": [
  {
   "cell_type": "code",
   "execution_count": null,
   "metadata": {},
   "outputs": [],
   "source": [
    "from __future__ import print_function, division\n",
    "import sys\n",
    "sys.path.append(\"../\")"
   ]
  },
  {
   "cell_type": "code",
   "execution_count": null,
   "metadata": {},
   "outputs": [],
   "source": [
    "import numpy as np\n",
    "import os\n",
    "import pathlib\n",
    "import pickle\n",
    "import torch\n",
    "import torchvision\n",
    "import tqdm\n",
    "\n",
    "import dsbtorch\n",
    "\n",
    "device = torch.device(\"cuda:0\" if torch.cuda.is_available() else \"cpu\")\n",
    "torchvision.set_image_backend('accimage')"
   ]
  },
  {
   "cell_type": "code",
   "execution_count": null,
   "metadata": {},
   "outputs": [],
   "source": [
    "data_dir = \"/home/ubuntu/data/dataset/\"\n",
    "dataset_names =  ['train', 'dev', 'test']"
   ]
  },
  {
   "cell_type": "code",
   "execution_count": null,
   "metadata": {},
   "outputs": [],
   "source": [
    "scanned_datasets = {}\n",
    "for x in dataset_names:\n",
    "    sddir = pathlib.Path(\"scans/\" + os.path.join(data_dir, x))\n",
    "    sdfile = sddir / \"ws1-psr1-nsr1.pkl\"\n",
    "    print(sdfile)\n",
    "    if not sdfile.exists():\n",
    "        raise ValueError(\"You need to use the ScanDatasets notebook first to scan & pickle the dataset.\")\n",
    "    with open(sdfile, 'rb') as f:\n",
    "        scanned_datasets[x] = pickle.load(f)"
   ]
  },
  {
   "cell_type": "code",
   "execution_count": null,
   "metadata": {},
   "outputs": [],
   "source": [
    "datasets = {x: dsbtorch.VideoSlidingWindowDataset(scanned_datasets[x], dsbtorch.DEFAULT_TRANSFORM) for x in dataset_names}"
   ]
  },
  {
   "cell_type": "code",
   "execution_count": null,
   "metadata": {},
   "outputs": [],
   "source": [
    "output_dir = \"/home/ubuntu/data/encoded_dataset/\""
   ]
  },
  {
   "cell_type": "code",
   "execution_count": null,
   "metadata": {},
   "outputs": [],
   "source": [
    "model = dsbtorch.ResCNN(\"/home/ubuntu/data/DeepSponsorBlock/results/rescnn.weights\").to(device)\n",
    "for param in model.parameters():\n",
    "    param.requires_grad = False\n",
    "model.eval()"
   ]
  },
  {
   "cell_type": "code",
   "execution_count": null,
   "metadata": {},
   "outputs": [],
   "source": [
    "batch_size = 1024\n",
    "dataloaders = {x: torch.utils.data.DataLoader(datasets[x], batch_size=batch_size, num_workers=6, pin_memory=True) for x in dataset_names}\n",
    "dataset_sizes = {x: len(datasets[x]) for x in dataset_names}"
   ]
  },
  {
   "cell_type": "code",
   "execution_count": null,
   "metadata": {},
   "outputs": [],
   "source": [
    "with torch.set_grad_enabled(False):\n",
    "    for x in dataset_names:\n",
    "        sd = scanned_datasets[x]\n",
    "\n",
    "        out_files = [output_dir / dir_list[0].parent.relative_to(data_dir) for dir_list in sd.cumulative_dirs]\n",
    "        lengths = list(np.diff(np.array(sd.cumulative_indices + [sd.n_indices])))\n",
    "\n",
    "        # Reverse them to use as a stack.\n",
    "        out_files.reverse()\n",
    "        lengths.reverse()\n",
    "\n",
    "        encoder_outputs = []\n",
    "        acc_labels = []\n",
    "        for imgs, lbls in tqdm.tqdm(dataloaders[x]):\n",
    "            imgs = torch.reshape(imgs, (-1, 3, 144, 256)).to(device)\n",
    "            encoder_outputs.append(model(imgs).cpu())\n",
    "            acc_labels.append(torch.reshape(lbls, (-1, )))\n",
    "\n",
    "            while lengths and sum(x.shape[0] for x in encoder_outputs) >= lengths[-1]:\n",
    "                out_path = out_files.pop()\n",
    "                out_path.parent.mkdir(parents=True, exist_ok=True)\n",
    "\n",
    "                combined_encoder_outputs = torch.cat(encoder_outputs)\n",
    "                combined_labels = torch.cat(acc_labels)\n",
    "\n",
    "                length = lengths.pop()\n",
    "\n",
    "                encoder_outputs = [combined_encoder_outputs[length:]]\n",
    "                acc_labels = [combined_labels[length:]]\n",
    "\n",
    "                cnn_outputs, labels = (combined_encoder_outputs[:length], combined_labels[:length])\n",
    "                np.save(out_path.with_suffix('.emb'), cnn_outputs.numpy())\n",
    "                np.save(out_path.with_suffix('.lbl'), labels.numpy())"
   ]
  },
  {
   "cell_type": "code",
   "execution_count": null,
   "metadata": {},
   "outputs": [],
   "source": []
  }
 ],
 "metadata": {
  "kernelspec": {
   "display_name": "Python 3",
   "language": "python",
   "name": "python3"
  },
  "language_info": {
   "codemirror_mode": {
    "name": "ipython",
    "version": 3
   },
   "file_extension": ".py",
   "mimetype": "text/x-python",
   "name": "python",
   "nbconvert_exporter": "python",
   "pygments_lexer": "ipython3",
   "version": "3.6.10"
  }
 },
 "nbformat": 4,
 "nbformat_minor": 4
}
