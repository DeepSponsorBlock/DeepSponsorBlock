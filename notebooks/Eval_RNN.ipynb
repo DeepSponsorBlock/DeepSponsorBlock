{
 "cells": [
  {
   "cell_type": "code",
   "execution_count": null,
   "metadata": {},
   "outputs": [],
   "source": [
    "from __future__ import print_function, division\n",
    "import sys\n",
    "sys.path.append(\"../\")\n",
    "\n",
    "import numpy as np\n",
    "import matplotlib.pyplot as plt\n",
    "import pathlib\n",
    "import pickle\n",
    "import random\n",
    "import scipy.stats\n",
    "import torch\n",
    "from torch import nn\n",
    "import torchvision\n",
    "import tqdm\n",
    "\n",
    "import dsbfetch\n",
    "import dsbtorch\n",
    "\n",
    "plt.ion()   # interactive mode\n",
    "\n",
    "device = torch.device(\"cuda\")"
   ]
  },
  {
   "cell_type": "code",
   "execution_count": null,
   "metadata": {},
   "outputs": [],
   "source": [
    "dataset_dir = pathlib.Path(\"/home/ubuntu/data/encoded_dataset_511/test\")\n",
    "dataset = dsbtorch.PreEmbeddedDataset(dataset_dir)"
   ]
  },
  {
   "cell_type": "code",
   "execution_count": null,
   "metadata": {},
   "outputs": [],
   "source": [
    "def collate_fn(batches):\n",
    "    return list(batch[0] for batch in batches), list(batch[1] for batch in batches)\n",
    "\n",
    "batch_size = 64\n",
    "dataloader = torch.utils.data.DataLoader(dataset, batch_size=batch_size, num_workers=6, pin_memory=True, collate_fn=collate_fn)\n",
    "dataset_sizes = len(dataset)"
   ]
  },
  {
   "cell_type": "code",
   "execution_count": null,
   "metadata": {},
   "outputs": [],
   "source": [
    "def eval_model(rnn_decoder):\n",
    "    rnn_decoder.eval()\n",
    "    \n",
    "    ranges = []\n",
    "    ious = []\n",
    "    \n",
    "    with torch.set_grad_enabled(False):\n",
    "        for batch_idx, (cnn_outputs, labels) in enumerate(tqdm.tqdm(dataloader)):\n",
    "            cnn_outputs = nn.utils.rnn.pack_sequence(cnn_outputs, enforce_sorted=False).to(device)\n",
    "\n",
    "            # Get the RNN labels\n",
    "            padded_labels = nn.utils.rnn.pad_sequence(labels, batch_first=True)\n",
    "            padded_start_labels, padded_end_labels = dsbtorch.get_start_and_end_labels(padded_labels)\n",
    "\n",
    "            start_idxs = torch.argmax(padded_start_labels, dim=-1)\n",
    "            end_idxs = torch.argmax(padded_end_labels, dim=-1)\n",
    "\n",
    "            start_probs_ps, end_probs_ps = rnn_decoder(cnn_outputs)\n",
    "\n",
    "            start_probs_all, start_lengths = torch.nn.utils.rnn.pad_packed_sequence(start_probs_ps, batch_first=True)\n",
    "            end_probs_all, end_lengths = torch.nn.utils.rnn.pad_packed_sequence(end_probs_ps, batch_first=True)\n",
    "\n",
    "            start_probs_all = torch.squeeze(start_probs_all, dim=-1)\n",
    "            end_probs_all = torch.squeeze(end_probs_all, dim=-1)\n",
    "\n",
    "            assert torch.all(start_lengths == end_lengths)\n",
    "\n",
    "            start_preds_idx = torch.argmax(start_probs_all, dim=-1)\n",
    "            end_preds_idx = torch.argmax(end_probs_all, dim=-1)\n",
    "            ranges.extend(zip(start_preds_idx.tolist(), end_preds_idx.tolist()))\n",
    "            ious.extend(dsbtorch.compute_IOU_from_indices(start_preds_idx, end_preds_idx, start_idxs, end_idxs))\n",
    "                        \n",
    "    return ranges, ious"
   ]
  },
  {
   "cell_type": "code",
   "execution_count": null,
   "metadata": {},
   "outputs": [],
   "source": [
    "decoder = dsbtorch.PreprocessedEncoderDecoder(2048, weights_path=\"/home/ubuntu/data/DeepSponsorBlock/results/preprocessed_encoder_decoder.weights\").to(device)"
   ]
  },
  {
   "cell_type": "code",
   "execution_count": null,
   "metadata": {},
   "outputs": [],
   "source": [
    "ranges, ious = eval_model(decoder)"
   ]
  },
  {
   "cell_type": "code",
   "execution_count": null,
   "metadata": {},
   "outputs": [],
   "source": [
    "# Load labels from SponsorBlock segments file.\n",
    "labeled_videos = dsbfetch.load_segments(\"../segments.csv\")\n",
    "labels = {x.video_id: x.segments for x in labeled_videos}"
   ]
  },
  {
   "cell_type": "code",
   "execution_count": null,
   "metadata": {},
   "outputs": [],
   "source": [
    "# Compile the videos we evaluated\n",
    "videos = [emb_file.stem.split('.')[0] for emb_file, _ in dataset.videos]\n",
    "pairs = sorted(random.sample(list(zip(videos, ranges, ious)), 50), key=lambda x: -x[2])"
   ]
  },
  {
   "cell_type": "code",
   "execution_count": null,
   "metadata": {},
   "outputs": [],
   "source": [
    "# Get YouTube links\n",
    "links = [(\"https://www.youtube.com/embed/%s?start=%d&end=%d\" % (vid, start, end + 1), iou, labels[vid]) for vid, (start, end), iou in pairs]\n",
    "print(\"\\n\".join(str(x) for x in links))"
   ]
  },
  {
   "cell_type": "code",
   "execution_count": null,
   "metadata": {},
   "outputs": [],
   "source": [
    "print(\"Mean:\", np.mean(ious))\n",
    "print(\"Median:\", np.median(ious))"
   ]
  },
  {
   "cell_type": "code",
   "execution_count": null,
   "metadata": {},
   "outputs": [],
   "source": [
    "# Plot the histogram.\n",
    "plt.figure(dpi=300)\n",
    "plt.style.use('grayscale')\n",
    "\n",
    "plt.hist(ious, bins=25)\n",
    "\n",
    "title = \"Number of Videos by IOU\"\n",
    "plt.title(title)\n",
    "\n",
    "plt.show()"
   ]
  },
  {
   "cell_type": "code",
   "execution_count": null,
   "metadata": {},
   "outputs": [],
   "source": []
  }
 ],
 "metadata": {
  "kernelspec": {
   "display_name": "Environment (conda_pytorch_latest_p36)",
   "language": "python",
   "name": "conda_pytorch_latest_p36"
  },
  "language_info": {
   "codemirror_mode": {
    "name": "ipython",
    "version": 3
   },
   "file_extension": ".py",
   "mimetype": "text/x-python",
   "name": "python",
   "nbconvert_exporter": "python",
   "pygments_lexer": "ipython3",
   "version": "3.6.10"
  }
 },
 "nbformat": 4,
 "nbformat_minor": 4
}
