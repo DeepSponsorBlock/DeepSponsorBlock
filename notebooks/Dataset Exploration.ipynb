{
 "cells": [
  {
   "cell_type": "code",
   "execution_count": 1,
   "metadata": {},
   "outputs": [],
   "source": [
    "import pathlib\n",
    "import numpy as np\n",
    "from dsbfetch import Video, load_segments"
   ]
  },
  {
   "cell_type": "code",
   "execution_count": 2,
   "metadata": {},
   "outputs": [],
   "source": [
    "videos = load_segments(\"segments.csv\")"
   ]
  },
  {
   "cell_type": "code",
   "execution_count": 3,
   "metadata": {},
   "outputs": [
    {
     "name": "stderr",
     "output_type": "stream",
     "text": [
      "ERROR: vvdCgJ-7EIM: YouTube said: Unable to extract video data\n"
     ]
    },
    {
     "name": "stdout",
     "output_type": "stream",
     "text": [
      "DescribeResult(nobs=69, minmax=(243, 4609), mean=1023.072463768116, variance=555372.6564364877, skewness=3.1489561599257243, kurtosis=12.430427183587325)\n",
      "DescribeResult(nobs=69, minmax=(2.999377, 254.9591730000002), mean=48.83792188405799, variance=2320.4275972671835, skewness=1.9840011945790192, kurtosis=4.544863482823731)\n",
      "DescribeResult(nobs=69, minmax=(0.0030624689612784245, 0.23190837435897438), mean=0.05487312530024656, variance=0.002305229473107715, skewness=1.4705104241305031, kurtosis=2.204381674203013)\n"
     ]
    }
   ],
   "source": [
    "from scipy.stats import describe\n",
    "\n",
    "# Let's take a look at some stats here.\n",
    "def compute_stats(v):\n",
    "    try:\n",
    "        length = v.pafy_obj.length\n",
    "\n",
    "        segments = np.array(v.segments)\n",
    "        total_segment_length = np.sum(segments[:, 1] - segments[:, 0])\n",
    "\n",
    "        segment_ratio = total_segment_length / length\n",
    "\n",
    "        return v, length, total_segment_length, segment_ratio\n",
    "    except:\n",
    "        return None\n",
    "\n",
    "# raw_stats = [compute_stats(v) for v in np.random.choice(list(videos), 100)]\n",
    "raw_stats = [compute_stats(v) for v in videos[:70]]\n",
    "stats = [x for x in raw_stats if x is not None]\n",
    "# Sort by decreasing segment ratio.\n",
    "stats.sort(key=lambda x: -x[2])\n",
    "\n",
    "_, video_lengths, total_segment_lengths, segment_ratios = zip(*stats)\n",
    "\n",
    "print(describe(video_lengths))\n",
    "\n",
    "#total_segment_lengths = {v.video_id: np.sum(np.array(v.segments)[:, 1] - np.array(v.segments)[:, 0]) for v in videos}\n",
    "print(describe(total_segment_lengths))\n",
    "\n",
    "print(describe(segment_ratios))"
   ]
  },
  {
   "cell_type": "code",
   "execution_count": 4,
   "metadata": {},
   "outputs": [
    {
     "data": {
      "text/plain": [
       "65"
      ]
     },
     "execution_count": 4,
     "metadata": {},
     "output_type": "execute_result"
    }
   ],
   "source": [
    "len([x for x in video_lengths if x < 1800])"
   ]
  },
  {
   "cell_type": "code",
   "execution_count": 5,
   "metadata": {},
   "outputs": [
    {
     "data": {
      "text/plain": [
       "69"
      ]
     },
     "execution_count": 5,
     "metadata": {},
     "output_type": "execute_result"
    }
   ],
   "source": [
    "len(video_lengths)"
   ]
  },
  {
   "cell_type": "code",
   "execution_count": 8,
   "metadata": {},
   "outputs": [
    {
     "data": {
      "text/plain": [
       "(Video cqshaJTI8FQ, 926, 74.54217500000001, 0.08049910907127432)"
      ]
     },
     "execution_count": 8,
     "metadata": {},
     "output_type": "execute_result"
    }
   ],
   "source": [
    "raw_stats[68]"
   ]
  },
  {
   "cell_type": "code",
   "execution_count": 9,
   "metadata": {},
   "outputs": [
    {
     "data": {
      "text/plain": [
       "[(Video hFZFjoX2cGg, 1299, 78.48201800000015, 0.06041725789068526),\n",
       " (Video l06PlYNShpQ, 764, 10.436929, 0.013660901832460732),\n",
       " (Video RTTiQeXXrhI, 665, 44.034542999999985, 0.06621735789473682),\n",
       " (Video ipFJGZOHN_o, 375, 38.98684900000001, 0.10396493066666668),\n",
       " (Video vDiKW23-9Ek, 438, 44.082366000000036, 0.10064467123287679),\n",
       " (Video S1opkMO1w4U, 1146, 108.87760800000012, 0.09500663874345561),\n",
       " (Video miHJn0joMkU, 351, 30.324027, 0.08639323931623932),\n",
       " (Video mLsoJkQb0Cs, 506, 11.833175000000004, 0.023385721343873525),\n",
       " (Video Lr_MHVdAHn4, 433, 32.262137000000024, 0.07450839953810628),\n",
       " (Video QDpsVVJXYAs, 300, 46.43491799999998, 0.15478305999999994),\n",
       " (Video fd4QZbw58fU, 300, 10.369025000000022, 0.03456341666666674),\n",
       " None,\n",
       " (Video af6pKbdKugQ, 279, 56.53507299999998, 0.202634670250896),\n",
       " (Video LWJPn-xMu0s, 4609, 203.1993440000001, 0.04408751225862446),\n",
       " (Video OfI-XpYAqM0, 2341, 62.76089200000024, 0.026809436992738248),\n",
       " (Video 0sxFWAiKnHg, 4498, 254.9591730000002, 0.05668278634948871),\n",
       " (Video csFwlKgZCzM, 1277, 29.831812999999997, 0.023360855912294438),\n",
       " (Video dhXxCoX0bso, 1323, 30.929018, 0.023377942554799698),\n",
       " (Video dHX4V1_LGnQ, 915, 27.32070699999997, 0.029858696174863357),\n",
       " (Video --Lb0Jd5nz8, 677, 17.868836000000016, 0.02639414475627772),\n",
       " (Video K10s2eK5MRc, 1338, 35.09375399999999, 0.026228515695067258),\n",
       " (Video H5BN_Y7fF2I, 1135, 25.292293, 0.02228395859030837),\n",
       " (Video kmQdZ79RFuc, 1016, 13.84979999999996, 0.013631692913385786),\n",
       " (Video 5UgEXod2RSY, 1248, 133.03520600000002, 0.10659872275641027),\n",
       " (Video Aao7DstTSak, 794, 22.026657999999998, 0.027741382871536522),\n",
       " (Video xH1X1N1P4DY, 1357, 27.295372000000043, 0.02011449668386149),\n",
       " (Video h3cX86uLtqI, 914, 15.804428, 0.01729149671772429),\n",
       " (Video zNjKBmxK-OE, 1111, 34.003446000000054, 0.030606162016201668),\n",
       " (Video 6_s2mCrq724, 358, 31.784429999999986, 0.08878332402234633),\n",
       " (Video ERbw3-dhlS8, 878, 133.02498400000002, 0.15150909339407748),\n",
       " (Video JGOSDFxaQZY, 1149, 36.71735100000001, 0.031955919060052226),\n",
       " (Video JQ5hUaOu2u0, 389, 7.361874, 0.018925125964010282),\n",
       " (Video 3-8E1ThMF2c, 1181, 133.021929, 0.1126349949195597),\n",
       " (Video DTsWajD9418, 1637, 29.071093000000005, 0.017758761759315823),\n",
       " (Video 6-plAG1O0iQ, 876, 3.358961, 0.0038344303652968034),\n",
       " (Video VSrLG1zPr2g, 1319, 73.74777300000005, 0.055911882486732414),\n",
       " (Video vXI9pyhop8Q, 555, 39.867643, 0.07183359099099099),\n",
       " (Video Ngy9TIbREJE, 857, 11.703373999999997, 0.013656212368728117),\n",
       " (Video L9VysWRHPdI, 797, 18.956046, 0.02378424843161857),\n",
       " (Video ohu-t49IbBI, 243, 14.283391, 0.05877938683127572),\n",
       " (Video tOq6Deqc-N0, 1004, 44.075294000000014, 0.04389969521912352),\n",
       " (Video 5HBs0fQ2jAg, 1011, 8.33265999999999, 0.008241998021760623),\n",
       " (Video 4-BCsEAppiE, 685, 2.999377, 0.004378652554744526),\n",
       " (Video ZFLiKClKKhs, 971, 15.571201000000002, 0.016036252317198765),\n",
       " (Video JezVlLdQ2Qc, 747, 13.453325999999997, 0.01800980722891566),\n",
       " (Video zqBSJSAmCHQ, 865, 65.27641699999998, 0.07546406589595374),\n",
       " (Video 7LKy3lrkTRA, 738, 20.380603, 0.027615993224932252),\n",
       " (Video jQwgKiE_63g, 772, 12.673912999999999, 0.016416985751295337),\n",
       " (Video FbekKEVPYb8, 2055, 53.178623, 0.025877675425790756),\n",
       " (Video 0FdArjNTurE, 814, 13.143497000000004, 0.016146802211302217),\n",
       " (Video BHiWygziyso, 1437, 71.77246800000012, 0.04994604592901887),\n",
       " (Video U-pZ1taV76U, 1357, 10.273094, 0.0075704450994841565),\n",
       " (Video Q2aaCDNjWEg, 1147, 81.69913699999984, 0.07122854141237998),\n",
       " (Video v-ajyq_DeDA, 687, 41.79599999999999, 0.06083842794759824),\n",
       " (Video EZc1oQIqKL4, 898, 56.71764099999996, 0.06315995657015586),\n",
       " (Video Perqf0dOGLk, 1627, 4.982636999999997, 0.0030624689612784245),\n",
       " (Video mxsBZgHM7CE, 1761, 29.407032, 0.016699052810902896),\n",
       " (Video PZ7SevBiT5s, 962, 6.6096070000000005, 0.006870693347193348),\n",
       " (Video TCMKqA3lCJg, 909, 40.72081400000002, 0.04479737513751377),\n",
       " (Video a_BKQ_ZPImw, 384, 7.880085, 0.020521054687500002),\n",
       " (Video 0SIIRGgWVb8, 1058, 119.43723899999998, 0.11288963988657842),\n",
       " (Video 2r3sTYmVrnA, 650, 37.095876, 0.05707057846153846),\n",
       " (Video 7CqjtCAfhXE, 1230, 26.999936, 0.021951167479674797),\n",
       " (Video _B25PsJ1rwM, 429, 19.512380999999998, 0.04548340559440559),\n",
       " (Video ylj4_4k-QI4, 900, 97.784723, 0.10864969222222222),\n",
       " (Video 1Y3LRg9BakE, 981, 106.07072400000004, 0.10812510091743123),\n",
       " (Video BUTBC0pTl1I, 344, 47.498234000000025, 0.13807626162790704),\n",
       " (Video Ll9vSi0-kVE, 585, 135.666399, 0.23190837435897438),\n",
       " (Video cqshaJTI8FQ, 926, 74.54217500000001, 0.08049910907127432),\n",
       " (Video wR2tOLShFmY, 1010, 125.43723999999997, 0.12419528712871285)]"
      ]
     },
     "execution_count": 9,
     "metadata": {},
     "output_type": "execute_result"
    }
   ],
   "source": [
    "raw_stats"
   ]
  },
  {
   "cell_type": "code",
   "execution_count": null,
   "metadata": {},
   "outputs": [],
   "source": []
  }
 ],
 "metadata": {
  "kernelspec": {
   "display_name": "Python 3",
   "language": "python",
   "name": "python3"
  },
  "language_info": {
   "codemirror_mode": {
    "name": "ipython",
    "version": 3
   },
   "file_extension": ".py",
   "mimetype": "text/x-python",
   "name": "python",
   "nbconvert_exporter": "python",
   "pygments_lexer": "ipython3",
   "version": "3.7.9"
  }
 },
 "nbformat": 4,
 "nbformat_minor": 4
}
