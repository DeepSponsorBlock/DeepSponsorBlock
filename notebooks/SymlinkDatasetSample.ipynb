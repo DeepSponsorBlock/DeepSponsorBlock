{
 "cells": [
  {
   "cell_type": "code",
   "execution_count": 1,
   "metadata": {},
   "outputs": [],
   "source": [
    "import pathlib, tqdm, random"
   ]
  },
  {
   "cell_type": "code",
   "execution_count": 2,
   "metadata": {},
   "outputs": [],
   "source": [
    "datasets = [('train', 15000), ('test', 3000), ('dev', 1000)]\n",
    "orig_root = pathlib.Path(\"/home/ubuntu/data/dataset/\")\n",
    "new_root = pathlib.Path(\"/home/ubuntu/data/dataset_511/\")"
   ]
  },
  {
   "cell_type": "code",
   "execution_count": 3,
   "metadata": {},
   "outputs": [],
   "source": [
    "def move_dataset(dataset, sample_size):\n",
    "    from_dir = orig_root / dataset\n",
    "    to_dir = new_root / dataset\n",
    "    to_dir.mkdir(exist_ok=True, parents=True)\n",
    "\n",
    "    files = [x for x in from_dir.iterdir()]\n",
    "\n",
    "    sampled_files = random.sample(files, sample_size)\n",
    "    \n",
    "    for d in tqdm.tqdm(sampled_files):       \n",
    "        if not d.is_dir():\n",
    "            continue\n",
    "\n",
    "        dest = to_dir / d.stem\n",
    "        if not dest.exists():\n",
    "            dest.symlink_to(d)"
   ]
  },
  {
   "cell_type": "code",
   "execution_count": 4,
   "metadata": {
    "scrolled": true
   },
   "outputs": [
    {
     "name": "stderr",
     "output_type": "stream",
     "text": [
      "100%|██████████| 10000/10000 [01:42<00:00, 98.00it/s]\n",
      "100%|██████████| 2000/2000 [00:19<00:00, 102.55it/s]\n"
     ]
    }
   ],
   "source": [
    "for dataset, sample_size in datasets:\n",
    "    move_dataset(dataset, sample_size)"
   ]
  },
  {
   "cell_type": "code",
   "execution_count": null,
   "metadata": {},
   "outputs": [],
   "source": []
  }
 ],
 "metadata": {
  "kernelspec": {
   "display_name": "Environment (conda_pytorch_latest_p36)",
   "language": "python",
   "name": "conda_pytorch_latest_p36"
  },
  "language_info": {
   "codemirror_mode": {
    "name": "ipython",
    "version": 3
   },
   "file_extension": ".py",
   "mimetype": "text/x-python",
   "name": "python",
   "nbconvert_exporter": "python",
   "pygments_lexer": "ipython3",
   "version": "3.6.10"
  }
 },
 "nbformat": 4,
 "nbformat_minor": 4
}
