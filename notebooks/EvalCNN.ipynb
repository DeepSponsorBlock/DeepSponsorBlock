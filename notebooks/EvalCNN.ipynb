{
 "cells": [
  {
   "cell_type": "code",
   "execution_count": null,
   "metadata": {},
   "outputs": [],
   "source": [
    "from __future__ import print_function, division\n",
    "import sys\n",
    "sys.path.append(\"../\")\n",
    "\n",
    "import numpy as np\n",
    "import matplotlib.pyplot as plt\n",
    "import pathlib\n",
    "import torch\n",
    "import torchvision\n",
    "import tqdm\n",
    "\n",
    "import dsbtorch\n",
    "import dsbfetch\n",
    "\n",
    "plt.ion()\n",
    "\n",
    "device = torch.device(\"cuda:0\" if torch.cuda.is_available() else \"cpu\")"
   ]
  },
  {
   "cell_type": "code",
   "execution_count": null,
   "metadata": {},
   "outputs": [],
   "source": [
    "dataset_dir = pathlib.Path(\"/home/ubuntu/data/encoded_dataset/test\")\n",
    "dataset = dsbtorch.PreEmbeddedDataset(dataset_dir)"
   ]
  },
  {
   "cell_type": "code",
   "execution_count": null,
   "metadata": {},
   "outputs": [],
   "source": [
    "def eval_model(model):\n",
    "    model.eval()\n",
    "    \n",
    "    ious = []\n",
    "    \n",
    "    with torch.set_grad_enabled(False):\n",
    "        for cnn_outputs, labels in tqdm.tqdm(dataset):\n",
    "            probs = model(cnn_outputs.to(device))\n",
    "            preds = torch.argmax(probs, dim=1)\n",
    "\n",
    "            ious.append(dsbtorch.compute_IOU(preds.cpu(), labels))\n",
    "                        \n",
    "    return ious"
   ]
  },
  {
   "cell_type": "code",
   "execution_count": null,
   "metadata": {},
   "outputs": [],
   "source": [
    "model = dsbtorch.ResCNNClassifier(\"/home/ubuntu/data/DeepSponsorBlock/results/rescnn.weights\")"
   ]
  },
  {
   "cell_type": "code",
   "execution_count": null,
   "metadata": {},
   "outputs": [],
   "source": [
    "# Since we're going to run this directly on the preprocessed files, we just need the FC layer.\n",
    "classifier = model.fc\n",
    "classifier = classifier.to(device)"
   ]
  },
  {
   "cell_type": "code",
   "execution_count": null,
   "metadata": {},
   "outputs": [],
   "source": [
    "ious = eval_model(classifier)"
   ]
  },
  {
   "cell_type": "code",
   "execution_count": null,
   "metadata": {},
   "outputs": [],
   "source": [
    "# Load labels from SponsorBlock segments file.\n",
    "labeled_videos = dsbfetch.load_segments(\"../segments.csv\")\n",
    "labels = {x.video_id: x.segments for x in labeled_videos}"
   ]
  },
  {
   "cell_type": "code",
   "execution_count": null,
   "metadata": {},
   "outputs": [],
   "source": [
    "# Compile the videos we evaluated\n",
    "videos = [emb_file.stem.split('.')[0] for emb_file, _ in dataset.videos]\n",
    "pairs = sorted(zip(videos, ious), key=lambda x: -x[1])[:50]"
   ]
  },
  {
   "cell_type": "code",
   "execution_count": null,
   "metadata": {},
   "outputs": [],
   "source": [
    "# Get YouTube links\n",
    "links = [(\"https://www.youtube.com/watch?v=%s\" % (vid), iou, labels[vid]) for vid, iou in pairs]\n",
    "print(\"\\n\".join(str(x) for x in links))"
   ]
  },
  {
   "cell_type": "code",
   "execution_count": null,
   "metadata": {},
   "outputs": [],
   "source": [
    "print(\"Mean:\", np.mean(ious))\n",
    "print(\"Median:\", np.median(ious))"
   ]
  },
  {
   "cell_type": "code",
   "execution_count": null,
   "metadata": {},
   "outputs": [],
   "source": [
    "# Plot the histogram of IOUs\n",
    "plt.figure(dpi=300)\n",
    "plt.style.use('grayscale')\n",
    "\n",
    "plt.hist(ious, bins=25)\n",
    "\n",
    "title = \"Number of Videos by IOU\"\n",
    "plt.title(title)\n",
    "\n",
    "plt.show()"
   ]
  }
 ],
 "metadata": {
  "kernelspec": {
   "display_name": "Environment (conda_pytorch_latest_p36)",
   "language": "python",
   "name": "conda_pytorch_latest_p36"
  },
  "language_info": {
   "codemirror_mode": {
    "name": "ipython",
    "version": 3
   },
   "file_extension": ".py",
   "mimetype": "text/x-python",
   "name": "python",
   "nbconvert_exporter": "python",
   "pygments_lexer": "ipython3",
   "version": "3.6.10"
  }
 },
 "nbformat": 4,
 "nbformat_minor": 4
}
