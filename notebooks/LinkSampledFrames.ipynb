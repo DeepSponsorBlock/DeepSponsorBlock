{
 "cells": [
  {
   "cell_type": "code",
   "execution_count": 1,
   "metadata": {},
   "outputs": [],
   "source": [
    "import pathlib, tqdm"
   ]
  },
  {
   "cell_type": "code",
   "execution_count": 2,
   "metadata": {},
   "outputs": [],
   "source": [
    "def _get_file_label(f: pathlib.Path) -> int:\n",
    "    \"\"\"Gets the image label from the file path.\"\"\"\n",
    "    return int(f.stem.split(\"-\")[1])"
   ]
  },
  {
   "cell_type": "code",
   "execution_count": 3,
   "metadata": {},
   "outputs": [],
   "source": [
    "datasets = ['train', 'dev', 'test']\n",
    "orig_root = pathlib.Path(\"/home/ubuntu/data/dataset/\")\n",
    "new_root = pathlib.Path(\"/home/ubuntu/data/dataset_imagefolder_sampled_1000/\")"
   ]
  },
  {
   "cell_type": "code",
   "execution_count": 4,
   "metadata": {},
   "outputs": [],
   "source": [
    "def move_dataset(dataset):\n",
    "    from_dir = orig_root / dataset\n",
    "    to_dir = new_root / dataset\n",
    "    \n",
    "    i = [1, 1]\n",
    "    for label in range(len(i)):\n",
    "        to_dir_label = to_dir / str(label)\n",
    "        to_dir_label.mkdir(exist_ok=True, parents=True)\n",
    "        \n",
    "    for d in tqdm.tqdm(sorted(from_dir.iterdir())):\n",
    "        for f in sorted(d.iterdir()):\n",
    "            if f.suffix != \".jpg\":\n",
    "                continue\n",
    "\n",
    "            label = _get_file_label(f)\n",
    "            \n",
    "            k = i[label] - 1\n",
    "            if (label == 1 and k % 1000 == 0) or (label == 0 and k % 10000 == 0):\n",
    "                dest = to_dir / str(label) / (\"%010d.jpg\" % i[label])\n",
    "                if not dest.exists():\n",
    "                    dest.symlink_to(f)\n",
    "                    \n",
    "            i[label] += 1"
   ]
  },
  {
   "cell_type": "code",
   "execution_count": 5,
   "metadata": {
    "scrolled": true
   },
   "outputs": [
    {
     "name": "stderr",
     "output_type": "stream",
     "text": [
      "100%|██████████| 30250/30250 [07:16<00:00, 69.33it/s] \n",
      "100%|██████████| 3000/3000 [00:40<00:00, 73.41it/s] \n",
      "100%|██████████| 3000/3000 [00:41<00:00, 71.67it/s] \n"
     ]
    }
   ],
   "source": [
    "for dataset in datasets:\n",
    "  move_dataset(dataset)"
   ]
  },
  {
   "cell_type": "code",
   "execution_count": null,
   "metadata": {},
   "outputs": [],
   "source": []
  }
 ],
 "metadata": {
  "kernelspec": {
   "display_name": "Environment (conda_pytorch_latest_p36)",
   "language": "python",
   "name": "conda_pytorch_latest_p36"
  },
  "language_info": {
   "codemirror_mode": {
    "name": "ipython",
    "version": 3
   },
   "file_extension": ".py",
   "mimetype": "text/x-python",
   "name": "python",
   "nbconvert_exporter": "python",
   "pygments_lexer": "ipython3",
   "version": "3.6.10"
  }
 },
 "nbformat": 4,
 "nbformat_minor": 4
}
