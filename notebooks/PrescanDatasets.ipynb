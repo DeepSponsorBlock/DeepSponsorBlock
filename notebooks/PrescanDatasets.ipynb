{
 "cells": [
  {
   "cell_type": "code",
   "execution_count": 1,
   "metadata": {},
   "outputs": [],
   "source": [
    "from __future__ import print_function, division\n",
    "import sys\n",
    "sys.path.append(\"../\")\n",
    "\n",
    "import dsbtorch\n",
    "import pathlib\n",
    "import pickle"
   ]
  },
  {
   "cell_type": "code",
   "execution_count": 3,
   "metadata": {},
   "outputs": [],
   "source": [
    "data_dir = \"/home/ubuntu/data/dataset_511/test\""
   ]
  },
  {
   "cell_type": "code",
   "execution_count": 4,
   "metadata": {},
   "outputs": [],
   "source": [
    "window_size = 1\n",
    "sampling_rate = 1\n",
    "positive_sampling_rate = sampling_rate\n",
    "negative_sampling_rate = sampling_rate"
   ]
  },
  {
   "cell_type": "code",
   "execution_count": 5,
   "metadata": {},
   "outputs": [
    {
     "name": "stdout",
     "output_type": "stream",
     "text": [
      "False\n"
     ]
    }
   ],
   "source": [
    "outdir = pathlib.Path(\"scans/\" + data_dir)\n",
    "outdir.mkdir(parents=True, exist_ok=True)\n",
    "outfile = outdir / (\"ws%d-psr%d-nsr%d.pkl\" % (window_size, positive_sampling_rate, negative_sampling_rate))\n",
    "print(outfile.exists())"
   ]
  },
  {
   "cell_type": "code",
   "execution_count": null,
   "metadata": {},
   "outputs": [
    {
     "name": "stderr",
     "output_type": "stream",
     "text": [
      " 95%|█████████▌| 1908/2000 [00:34<00:01, 83.34it/s]"
     ]
    }
   ],
   "source": [
    "sd = dsbtorch.scan_dataset(data_dir, window_size, positive_sampling_rate, negative_sampling_rate)"
   ]
  },
  {
   "cell_type": "code",
   "execution_count": null,
   "metadata": {},
   "outputs": [],
   "source": [
    "with open(outfile, 'wb') as f:\n",
    "    pickle.dump(sd, f)"
   ]
  }
 ],
 "metadata": {
  "kernelspec": {
   "display_name": "Python 3",
   "language": "python",
   "name": "python3"
  },
  "language_info": {
   "codemirror_mode": {
    "name": "ipython",
    "version": 3
   },
   "file_extension": ".py",
   "mimetype": "text/x-python",
   "name": "python",
   "nbconvert_exporter": "python",
   "pygments_lexer": "ipython3",
   "version": "3.6.10"
  }
 },
 "nbformat": 4,
 "nbformat_minor": 4
}
