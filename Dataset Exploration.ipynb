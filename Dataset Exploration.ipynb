{
 "cells": [
  {
   "cell_type": "code",
   "execution_count": 1,
   "metadata": {},
   "outputs": [],
   "source": [
    "import pathlib\n",
    "import numpy as np\n",
    "from dsbfetch import Video, load_segments"
   ]
  },
  {
   "cell_type": "code",
   "execution_count": 2,
   "metadata": {},
   "outputs": [],
   "source": [
    "videos = load_segments(\"segments.csv\")"
   ]
  },
  {
   "cell_type": "code",
   "execution_count": 3,
   "metadata": {},
   "outputs": [
    {
     "name": "stderr",
     "output_type": "stream",
     "text": [
      "ERROR: F_X1gYyN4E0: YouTube said: Unable to extract video data\n",
      "ERROR: DvOU974m7kI: YouTube said: Unable to extract video data\n",
      "ERROR: F9gfYvccqcw: YouTube said: Unable to extract video data\n"
     ]
    },
    {
     "name": "stdout",
     "output_type": "stream",
     "text": [
      "DescribeResult(nobs=97, minmax=(92, 15729), mean=1400.4226804123712, variance=5622942.496563575, skewness=4.793512463524869, kurtosis=24.363226937309282)\n",
      "DescribeResult(nobs=97, minmax=(2.118264, 1418.8852560000005), mean=63.25370072164949, variance=20787.603831471675, skewness=8.695401330443712, kurtosis=79.27429110791797)\n",
      "DescribeResult(nobs=97, minmax=(0.0008683951628261283, 0.16829964482306686), mean=0.0550939182552597, variance=0.0016369064130845237, skewness=0.664785721427356, kurtosis=-0.3475344634217805)\n"
     ]
    }
   ],
   "source": [
    "from scipy.stats import describe\n",
    "\n",
    "# Let's take a look at some stats here.\n",
    "def compute_stats(v):\n",
    "    try:\n",
    "        length = v.pafy_obj.length\n",
    "\n",
    "        segments = np.array(v.segments)\n",
    "        total_segment_length = np.sum(segments[:, 1] - segments[:, 0])\n",
    "\n",
    "        segment_ratio = total_segment_length / length\n",
    "\n",
    "        return v, length, total_segment_length, segment_ratio\n",
    "    except:\n",
    "        return None\n",
    "\n",
    "stats = [compute_stats(v) for v in np.random.choice(list(videos.values()), 100)]\n",
    "stats = [x for x in stats if x is not None]\n",
    "# Sort by decreasing segment ratio.\n",
    "stats.sort(key=lambda x: -x[2])\n",
    "\n",
    "_, video_lengths, total_segment_lengths, segment_ratios = zip(*stats)\n",
    "\n",
    "print(describe(video_lengths))\n",
    "\n",
    "print(describe(total_segment_lengths))\n",
    "\n",
    "print(describe(segment_ratios))"
   ]
  }
 ],
 "metadata": {
  "kernelspec": {
   "display_name": "Python 3",
   "language": "python",
   "name": "python3"
  },
  "language_info": {
   "codemirror_mode": {
    "name": "ipython",
    "version": 3
   },
   "file_extension": ".py",
   "mimetype": "text/x-python",
   "name": "python",
   "nbconvert_exporter": "python",
   "pygments_lexer": "ipython3",
   "version": "3.7.9"
  }
 },
 "nbformat": 4,
 "nbformat_minor": 4
}
