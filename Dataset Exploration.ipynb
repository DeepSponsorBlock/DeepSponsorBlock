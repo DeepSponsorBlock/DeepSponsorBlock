{
 "cells": [
  {
   "cell_type": "code",
   "execution_count": 1,
   "metadata": {},
   "outputs": [],
   "source": [
    "import csv\n",
    "import numpy as np\n",
    "from collections import defaultdict, namedtuple\n",
    "import pafy\n",
    "import random"
   ]
  },
  {
   "cell_type": "code",
   "execution_count": 2,
   "metadata": {},
   "outputs": [],
   "source": [
    "def merge_overlapping_intervals(intervals):\n",
    "    intervals.sort(key=lambda x: x[0])\n",
    "    merged = [intervals[0]]\n",
    "    for current in intervals:\n",
    "        previous = merged[-1]\n",
    "        if current[0] <= previous[1]:\n",
    "            previous[1] = max(previous[1], current[1])\n",
    "        else:\n",
    "            merged.append(current)\n",
    "\n",
    "    intervals.clear()\n",
    "    intervals.extend(merged)"
   ]
  },
  {
   "cell_type": "code",
   "execution_count": 3,
   "metadata": {},
   "outputs": [],
   "source": [
    "Video = namedtuple(\"Video\", [\"video_id\", \"segments\", \"pafy\"])"
   ]
  },
  {
   "cell_type": "code",
   "execution_count": 4,
   "metadata": {},
   "outputs": [
    {
     "name": "stdout",
     "output_type": "stream",
     "text": [
      "Processed video #1: Dating during the pandemic\n",
      "Processed video #2: Minecraft, But The Mobs Spawn In Stacks...\n",
      "Processed video #3: Top 10 CAMPER FRIENDLY Guns in COD HISTORY\n",
      "Processed video #4: Der Anti-Webvideopreis 2020\n",
      "Processed video #5: ROAD RAGE IN AMERICA 2019 | BAD DRIVERS USA, CANADA\n",
      "Processed video #6: How bad is this $20 SSD??\n",
      "Processed video #7: They SAID this would be EASY... - Gaming at 8K 60fps\n",
      "Processed video #8: Red's Overpriced \"Mini Mag\" Cards - The Real Story\n",
      "Processed video #9: The 787 day journey ends here [0% HCIM]\n",
      "Processed video #10: DIY Smart Mirror (that doesn't steam up!)\n",
      "Processed video #11: Body Jump-Start and BioCharger RECTIFICATION\n",
      "Processed video #12: The Iodine Myth\n",
      "Processed video #13: Can You Spot the FAKE Gamer?  - Jubilee React #2\n",
      "Processed video #14: The Insane Engineering of the A-10 Warthog\n",
      "Processed video #15: He payed $150 000 to look like BTS JIMIN\n",
      "Processed video #16: Self quarantining with some old friends\n",
      "Processed video #17: We drove these electric cars until they DIED!\n",
      "Processed video #18: Budget Gaming Setup CHALLENGE - Scrapyard Wars 8 Part 2\n",
      "Processed video #19: Night School: \"Revisiting Social Media Pets\"\n",
      "Processed video #20: Motorola Edge+ Review: A Fully-Fledged (But Flawed) Flagship\n",
      "Processed video #21: The $69 Gaming PC RETURNS\n",
      "Processed video #22: Can Underwater Turbines Solve Our Energy Problems?\n",
      "Processed video #23: Okay, Google… What happened? - Google Pixel Slate\n",
      "Processed video #24: Why StarForge Failed : Gaming’s $130,000 Scam\n",
      "Processed video #25: when your opponent won't finish you off in a card game\n",
      "Processed video #26: Koreans React To Pewdiepie\n",
      "Processed video #27: The Dark Side of Becoming a Meme\n",
      "Processed video #28: Death Stranding: A Commentary, Critique And Understanding\n",
      "Processed video #29: smashing keyboard over minecraft hardcore torture livestream...\n",
      "Processed video #30: Is the Intel 10900k too little, too late?\n",
      "Processed video #31: Hardcore Minecraft but there is nothing hardcore about me\n",
      "Processed video #32: The Best BBQ Ribs Without Using A Smoker\n",
      "Processed video #33: I joined a Photoshop Competition (NOT GOOD)  /r/photoshopbattles top all #55 [REDDIT REVIEW]\n",
      "Processed video #34: Water Pump || DIY or Buy\n",
      "Processed video #35: How do Electric Transmission Lines Work?\n",
      "Processed video #36: Abandoned Theme Park on Top of a Mountain - Ghost Town in the Sky\n",
      "Processed video #37: Games Done Quick: Banned Into Submission\n",
      "Processed video #38: Why Kazakhstan is Changing Alphabets\n",
      "Processed video #39: I Restored And Repaired This Antique Ship Compass\n",
      "Processed video #40: I PRESSED THE BUTTON.\n",
      "Processed video #41: Dragon Ball Z: Kakarot | Girlfriend Reviews\n",
      "Processed video #42: Tik Toks That Perfectly Show Gen Z Humor\n",
      "Processed video #43: BORDERLANDS 3 IS A PERFECTLY BALANCED GAME WITH NO EXPLOITS - Worst Gun Is Broken + Overpowered\n",
      "Processed video #44: Good news guys, they made a Plants vs Zombies game based on World War II\n",
      "Processed video #45: How to Reduce Baby Unemployment!\n",
      "Processed video #46: Heavy gaming on this tiny computer! (Lattepanda alpha m3-8100y)\n",
      "Processed video #47: When musicians make puns\n",
      "Processed video #48: Impressively Bad: Corsair A500 CPU Cooler Review & Benchmark\n",
      "Processed video #49: Say \"I'm Wrong\" and You Get a Free PC\n",
      "Processed video #50: MY UPPIES HAVE BEEN REJECTED\n",
      "Processed video #51: How We Fixed the VFX in \"RUSH\" - Our Biggest Project Yet!\n",
      "Processed video #52: This is The New Killer Virus That Will End Humanity\n",
      "Processed video #53: A CPU Cooler You NEED To Know About!  Scythe Fuma 2 Review\n",
      "Processed video #54: 12K Hours of TF2\n",
      "Processed video #55: Spider-Man - Nostalgia Critic\n",
      "Processed video #56: So This is Basically Kingdom Hearts\n",
      "Processed video #57: The 30 Year-Old Airline That's Never Flown\n",
      "Processed video #58: Why Shrek Forever After is an Underrated Gem\n",
      "Processed video #59: We Are RICH... In Call of Duty: Warzone\n",
      "Processed video #60: Convincing Strangers at Airport to Fly Somewhere Else with us...\n",
      "Processed video #61: How the comfort zone is ruining your life\n",
      "Processed video #62: 1992 Smart Clapper vs Philips Hue - ClapON/ClapOFF\n",
      "Processed video #63: runescape's worst sequel | By Release #25\n",
      "Processed video #64: Absolute Mad Lads - The Dogmeat General, Zhang Zongchang\n",
      "Processed video #65: California Democrat LOSES IT After Elon Musk Files Lawsuit Over Unconstitutional Lockdown\n",
      "Processed video #66: Google...collects...DATA!?!?\n",
      "Processed video #67: ryan reynolds always has something funny to say!\n",
      "Processed video #68: AMD Ryzen TDP Deep-Dive & What Cooler Manufacturers Think of \"TDP\"\n",
      "Processed video #69: UNRELEASED: Henry VIII vs Hillary Clinton Battle & 2020 Update\n",
      "Processed video #70: The DistroCase 350P Has a Really Big Distribution Plate\n",
      "Processed video #71: How to Save TONS of Water, to Save the Planet\n",
      "Processed video #72: A Date With Sooperman - Cyanide & Happiness Shorts\n",
      "Processed video #73: What math and science cannot (yet?) explain\n",
      "Processed video #74: Our Best Start EVER in Rust\n",
      "Processed video #75: forcing 100 people to party for 168 hours straight\n",
      "Processed video #76: 5 Common Habits That Make People Instantly Dislike You\n",
      "Processed video #77: Asmongold Reacts To \"Enemies of Hellfire Peninsula\" | By Platinum WoW\n",
      "Processed video #78: The Highway Where Cars are Banned\n",
      "Processed video #79: Trisha Paytas Ruins The H3 Podcast - H3 Podcast #184\n",
      "Processed video #80: Guam: Why America's Most Isolated Territory Exists\n",
      "Processed video #81: Western vs Eastern Storytelling - What's the Difference? (A General Overview)\n"
     ]
    },
    {
     "name": "stderr",
     "output_type": "stream",
     "text": [
      "ERROR: tYRS0aXaBC8: YouTube said: Unable to extract video data\n"
     ]
    },
    {
     "name": "stdout",
     "output_type": "stream",
     "text": [
      "Could not process video tYRS0aXaBC8\n",
      "Processed video #82: WILL MAKES A DAMASCUS DAGGER AND MORE!! PART 2\n",
      "Processed video #83: H3 Podcast #12 - Steve-O\n",
      "Processed video #84: $50 Minecraft Server Computer | Step by Step Guide 2019\n",
      "Processed video #85: The African World War | Animated History\n",
      "Processed video #86: Brownies\n",
      "Processed video #87: Things You Can Only Do In Skyrim VR\n",
      "Processed video #88: Racing In The Rain At Bathurst Is Amazing\n",
      "Processed video #89: Johnny vs. Crash Team Racing Nitro-Fueled\n",
      "Processed video #90: What are Geedis and The Land of Ta? - Tales From the Internet\n",
      "Processed video #91: Legends of Runeterra.exe\n",
      "Processed video #92: Is 64 cores too many cores?!? w/ Steve from Gamers Nexus\n",
      "Processed video #93: I played CS:GO with randoms and this happened..\n",
      "Processed video #94: Building our NEW Video Editing Workstation - Start to Finish\n",
      "Processed video #95: HOLY $H!T: Ion Hints At TIME SKIP After Shadowlands?! Arthas! New Char Customisation, Boost + MORE!\n",
      "Processed video #96: Reading Mean Comments - Jake Paul Edition\n",
      "Processed video #97: Why did Sweden Support the Vietcong? (Short Animated Documentary)\n",
      "Processed video #98: What Are Memory Timings? CAS Latency, tRCD, tRP, & tRAS (Pt 1)\n",
      "Processed video #99: What's in a Cigar Club Box?\n",
      "Processed video #100: Peut-on croire les données de sa montre de sport ? #calories\n",
      "Processed video #101: Ryzen 9 3950X vs. Entire Intel Cascade Lake-X Lineup, Core i9-10900X, 10920X, 10940X & 10980X\n",
      "Processed video #102: The Rise of the Stadium District\n",
      "Processed video #103: Alphacool's Next-Level Watercooling Hardware!\n",
      "Processed video #104: Is There a Proper Way to Fire Two Guns at Once?\n",
      "Processed video #105: Making a Prison Burrito\n",
      "Processed video #106: The History Of Coffee\n",
      "Processed video #107: Oddly Satisfying Things Musicians Will Love\n",
      "Processed video #108: Evolution of Roman Artillery - How Powerful Was It?\n",
      "Processed video #109: Why This Island Might be in Canada or Might be in the US\n",
      "Processed video #110: Scrapyard Wars 6 Pt. 4 FINALE - $1337 Gaming PC Challenge\n",
      "Processed video #111: Five Nights at Freddy's: Help Wanted - Part 9\n",
      "Processed video #112: DONT YOU EVER GET A JOB AT DISNEY! NEVER EVER!\n",
      "Processed video #113: LIE DETECTOR INTERROGATION | RT Life\n",
      "Processed video #114: Film Theory: We SOLVED Rick and Morty Season 4 Episode 1!\n",
      "Processed video #115: Signing My Girlfriend Up For MUMS ONLY Tinder\n",
      "Processed video #116: Eure Videos #54 - Eure Dashcamvideoeinsendungen #Dashcam\n",
      "Processed video #117: Recording w/ Stef Lynn (winner of the Yousician contest)\n",
      "Processed video #118: Rare Memotech MTX 512 Computer - Show & Tell\n",
      "Processed video #119: Kody na konsolach? Jak działał Game Genie | arhn.edu\n",
      "Processed video #120: The Bizarre Tale of the Pizza Collar Bomber\n",
      "Processed video #121: Binging with Babish: Roast Beast from How The Grinch Stole Christmas\n",
      "Processed video #122: A.I. Learns to play Snake using Deep Q Learning\n",
      "Processed video #123: Insane speeds and jumps, I love it! Trackmania United Forever | Racing Marathon 2020 | KuruHS\n",
      "Processed video #124: Why do we find Satisfying things so Satisfying? (Neuroscience and Pleasure)\n"
     ]
    },
    {
     "name": "stderr",
     "output_type": "stream",
     "text": [
      "ERROR: 8_4wtVnK8gU: YouTube said: Unable to extract video data\n"
     ]
    },
    {
     "name": "stdout",
     "output_type": "stream",
     "text": [
      "Processed video #125: Trying Prison Food With An Ex-Convict\n",
      "Could not process video 8_4wtVnK8gU\n",
      "Processed video #126: La vérité sur 6 sociétés secrètes\n",
      "Processed video #127: REACTING TO MY MOST POPULAR VIDEOS\n",
      "Processed video #128: bat soup 🦇🍜\n",
      "Processed video #129: GIANT MONSTERS - Terrible Writing Advice\n",
      "Processed video #130: This Mini-DTX Motherboard is NO JOKE!\n",
      "Processed video #131: Epic Captain Marvel 2 News! Director GONE & Brie Making Demands!\n",
      "Processed video #132: f0.7 – Ultrafast Lenses – Legends, budget options, modding, and testing – Epic Episode #9\n",
      "Processed video #133: Balancing Strandbeest\n",
      "Processed video #134: AJS News - 2K Football is Back!, COD at 15 Million, Reggie to Gamestop, Cyberpunk News, Stadia Doom!\n",
      "Processed video #135: I'M RANK 1 IN THIS OSRS BOSS\n",
      "Processed video #136: Kingdom Hearts Timeline - Chronologically Confused - Angry Video Game Nerd (AVGN)\n",
      "Processed video #137: A WHOLE Gaming PC Setup for just $75... Can it GAME at 720p!?\n",
      "Processed video #138: How Green Energy Could Bring More Rain to Africa\n",
      "Processed video #139: Chow Crown Challenge - VS\n",
      "Processed video #140: 2019 Hentai in a NUTshell\n",
      "Processed video #141: TheBasti0nMain Fake Face Reveal - Overwatch Funny Moments 747\n",
      "Processed video #142: Cab Calloway: The Original Frontman\n",
      "Processed video #143: Eure Videos #42 - Eure Dashcamvideoeinsendungen #Dashcam\n",
      "Processed video #144: Underappreciated Historical Weapons: the WAR SCYTHE\n",
      "Processed video #145: This crazy trick could get you out of any speeding ticket\n",
      "Processed video #146: He Unicycled 20,000miles from Alaska to South America // Ep.17 Unicycling Across America\n",
      "Processed video #147: DON'T TRUST THE STOCK MARKET | WHAT YOU MUST KNOW!\n",
      "Processed video #148: This or That | Junglers These Days\n",
      "Processed video #149: The Crazy Plan to Recreate the Russian Empire in Africa\n"
     ]
    },
    {
     "name": "stderr",
     "output_type": "stream",
     "text": [
      "ERROR: iHj6eAJWp2w: YouTube said: Unable to extract video data\n"
     ]
    },
    {
     "name": "stdout",
     "output_type": "stream",
     "text": [
      "Could not process video iHj6eAJWp2w\n",
      "Processed video #150: JE RAPPELLE ENFIN CDISCOUNT\n",
      "Processed video #151: Iran's Ballistic Missile Capabilities\n",
      "Processed video #152: The NEW Caledonian Sleeper - London to Inverness Review (Club Solo Ensuite)\n",
      "Processed video #153: À quoi sert la fourrure des capuches ?\n",
      "Processed video #154: BEST uses for the new Controller Remapping on Nintendo Switch\n",
      "Processed video #155: OnePlus 7 Pro - Hidden Camera Durability Test! Will it Scratch?\n",
      "Processed video #156: Tommy Chong - Sting Operation: When the DEA Is Onto You - This Is Not Happening\n",
      "Processed video #157: s1mple Drops A GODLIKE 81 FRAGS Vs BIG... Huge CHOKE! | ESl Pro League 2020\n",
      "Processed video #158: Best Knife Openings of February 2020\n",
      "Processed video #159: Oxford Admissions Question (No Calculator)\n",
      "Processed video #160: Tow truck tricks: Don't get scammed after an accident (CBC Marketplace)\n",
      "Processed video #161: This printer prints on ANYTHING!\n",
      "Processed video #162: Disney Transport is huge. But is it good transit?\n",
      "Processed video #163: HOW TO SOUND LIKE DAFT PUNK\n",
      "Processed video #164: Why Are Japanese School Children Dropping Out of School?\n",
      "Processed video #165: The Alamo: The Birthplace of Texas\n",
      "Processed video #166: The Official Podcast #157 With Doug and Anthony\n"
     ]
    },
    {
     "name": "stderr",
     "output_type": "stream",
     "text": [
      "ERROR: tqrYJIVZYtY: YouTube said: Unable to extract video data\n"
     ]
    },
    {
     "name": "stdout",
     "output_type": "stream",
     "text": [
      "Could not process video tqrYJIVZYtY\n",
      "Processed video #167: Whatever Happened to Tourettes Guy?\n",
      "Processed video #168: UFO || KREALPLAY (ft. Dana Snyder)\n",
      "Processed video #169: History of Space Travel - Looking to the Stars - Extra History - #1\n",
      "Processed video #170: Project Binky - Episode 30 - Austin Mini GT-Four - Turbocharged 4WD Mini\n",
      "Processed video #171: FAKE Guitarists in the Media... DO THEY THINK WE'RE IDIOTS!?\n",
      "Processed video #172: Top tips for making passive income in 2019. (as a millionaire)\n",
      "Processed video #173: Best of Buzzfeed Pizza Cake - Buzzfeed Test #159\n",
      "Processed video #174: The best video on YouTube, by far. (JackAsk #89)\n",
      "Processed video #175: Wheelies, workout-fails en vetrolmeters in DUMPERTREETEN (222)!\n",
      "Processed video #176: How Are These Players Grandmaster?! - Overwatch Streamer Moments Ep. 50\n",
      "Processed video #177: Is Meat Bad for You? Is Meat Unhealthy?\n",
      "Processed video #178: Pro players reaction to ZywOo plays (Part 2)\n",
      "Processed video #179: Qui des HOMMES♂️ ou des FEMMES♀️ parlent mieux ? - MLTP37\n",
      "Processed video #180: D&D Story: Ep. 8- Saved a city with a Hair Brush (…No, really)\n",
      "Processed video #181: RUST: How to build the unbreakable Smart Turret\n",
      "Processed video #182: Season 1, Episode 12 - Down, but Not Out | Red vs. Blue\n",
      "Processed video #183: She did WHAT on her first date? - Skyrim Mods 257\n",
      "Processed video #184: This Week in Sportsball: NFL Week Seventeen Edition (2019)\n",
      "Processed video #185: Kirby Star Allies: Revisited - AntDude\n",
      "Processed video #186: Setup Wars Episode 197 - Minimalist Edition\n",
      "Processed video #187: Mario Party 64 - How to RUIN Friendships\n",
      "Processed video #188: Pacific Rim - The Shatterdome (Welcome To The Shatterdome) PART 3/4\n",
      "Processed video #189: How School Makes Kids Dumb\n",
      "Processed video #190: matchmaking be like...\n",
      "Processed video #191: Is Companion the Worst MTG Mechanic in the History of Magic: the Gathering?\n",
      "Processed video #192: Is Wind Waker’s Tower of the Gods a Sheikah Shrine? (Zelda Theory)\n",
      "Processed video #193: oh man ive been MURDERED BY WORDS | fresh\n",
      "Processed video #194: I Don't Think She Likes It! - Painting a MURAL in VIENNA - Ten Hun Euro Tour Ep. 4\n",
      "Processed video #195: Movies We Changed Our Minds About - Rental Reviews\n",
      "Processed video #196: Sierra Burgess is a Loser is a pretty dumb movie...\n",
      "Processed video #197: MTG Top 10: Colorless Lands\n",
      "Processed video #198: Crusader Kings 2 With NO DLC and No Patches Is CURSED\n",
      "Processed video #199: New Next-Gen AMD Hope\n",
      "Processed video #200: How to sell your car like a professional\n",
      "Processed video #201: When ScreaM Plays With Friends (CS:GO)\n",
      "Processed video #202: Marvel Overuses CGI | Analyzing Bad VFX\n",
      "Processed video #203: Bill Bert Podcast | Episode 11\n",
      "Processed video #204: BUDGET AIRLINE, Budget expectations? JetStar A320 Review - Adelaide to Sydney!\n",
      "Processed video #205: Magic Keyboard for iPad Pro Review\n",
      "Processed video #206: How to build the Youtuber dream studio....from the future.\n",
      "Processed video #207: Agent Janice SPEAKS - The WAN Show Jan 11 2019\n",
      "Processed video #208: Battle of Yarmouk, 636 ⚔️ Byzantine - Rashidun Clash at Yarmouk\n",
      "Processed video #209: Guardians Vol 2 EGO'S DEAD CHILDREN Revealed! (Skull Easter Eggs)\n",
      "Processed video #210: New Office Vlog 5 - #Firepole?\n",
      "Processed video #211: THROWING MOON BALLS IN THE DARK - Between the Games\n",
      "Processed video #212: EU vs Russia: Europe united\n",
      "Processed video #213: The Secret Genius of TV's \"Bottle Episodes\" - Breaking Bad\n",
      "Processed video #214: Why You Wouldn't Survive SCP's Keter Class (001-2000)\n",
      "Processed video #215: Katie Hill's MESSY Downfall Has People Shouting \"Double Standard\" BUT For Different Reasons, & More\n",
      "Processed video #216: The Midnight Sun Killer - James Dale Ritchie | SERIAL KILLER FILES #37\n",
      "Processed video #217: The Lost SpongeBob-Matrix Cartoon - Internet Mysteries (SpongeBob: Re-Hydrated)\n",
      "Processed video #218: Family Gathering | Critical Role | Campaign 2, Episode 71\n",
      "Processed video #219: Unfair Advantage? VR vs Mouse + Keyboard in Same Game!\n",
      "Processed video #220: Minecraft, but you can only walk in a straight line... (#3)\n",
      "Processed video #221: ZELDA BotW sounds are INCREDIBLE! // Gerudo Town Voices\n",
      "Processed video #222: Airplane Heist - Thief Who Hijacked A Plane and Stole A Million Dollars\n",
      "Processed video #223: Why You STILL Can’t Watch 4K YouTube on Apple\n"
     ]
    },
    {
     "name": "stderr",
     "output_type": "stream",
     "text": [
      "ERROR: ndZRdw_AdTI: YouTube said: Unable to extract video data\n"
     ]
    },
    {
     "name": "stdout",
     "output_type": "stream",
     "text": [
      "Processed video #224: The Truth About The Dark Web\n",
      "Could not process video ndZRdw_AdTI\n",
      "Processed video #225: Bill Bert Podcast | Episode 10\n",
      "Processed video #226: Quiet 12V NOCTUA Fan on 24V Creality Ender 3\n",
      "Processed video #227: The Legend RETURNS!  SteelSeries Sensei Ten Review\n",
      "Processed video #228: Awesomest Blade Throwing Lesson EVER!\n",
      "Processed video #229: I FOUND THE 5 BEST BANK ACCOUNTS!\n",
      "Processed video #230: UHOH! NEW Joker Controversy, Trump Impeachment Whistleblower Updates, & Greta Thunberg Mocked\n",
      "Processed video #231: If Video Games Were Under Quarantine\n",
      "Processed video #232: tik toks to stop you from simping😋🥵💦\n",
      "Processed video #233: Bill Bert Podcast | Episode 16\n",
      "Processed video #234: Impeachment BACKFIRE Gets WORSE As Trump now DEFEATS Every 2020 Democrat In Major Polling\n",
      "Processed video #235: ASRock X570 Creator Motherboard Analysis: The New Buzzword\n",
      "Processed video #236: Samsung Galaxy Buds for $129 ?! - REVIEW\n",
      "Processed video #237: I watched this transgender short film so you don't have to\n",
      "Processed video #238: Google Map Top Fails (very epic fails)\n",
      "Processed video #239: Breaking Down Horror\n",
      "Processed video #240: Los Angeles in 4 words (YIAY #439)\n",
      "Processed video #241: What if Portugal Ruled Iberia?! HOI4 La Resistance (Hearts of Iron 4)\n",
      "Processed video #242: The Craziest Bar Brawl\n",
      "Processed video #243: Season 4 Pathfinder Grapple Guide - Best Method After Nerf! + New Tricks! - Apex Legends\n",
      "Processed video #244: SSD vs Hard Drive Torture Test\n",
      "Processed video #245: ASMR Soothing Faux Fur Brushing, Scratching, Combing for Sleep & Study 💜\n",
      "Processed video #246: BUILDING A GIANT RC AIRBUS A350 XWB, PART 5\n"
     ]
    },
    {
     "name": "stderr",
     "output_type": "stream",
     "text": [
      "ERROR: nOOZvuOEdlU: YouTube said: Unable to extract video data\n"
     ]
    },
    {
     "name": "stdout",
     "output_type": "stream",
     "text": [
      "Processed video #247: Yo They Killed Cripps\n",
      "Could not process video nOOZvuOEdlU\n",
      "Processed video #248: Building A Modern PING PONG TABLE (It's Also A Dining Table) 🏓 Woodworking\n",
      "Processed video #249: MrBeast - H3 Podcast #111\n",
      "Processed video #250: TOTALEMENT PERDUS EN ALLEMAGNE ! (les ennuis commencent..) - RedboxTrip2 #2\n",
      "Processed video #251: (1643) Simple Dimple from Raymond\n",
      "Processed video #252: Having Dinner in front of a Jet Engine/Leaf Blower\n",
      "Processed video #253: 8 Things Faker Does That You Probably Don't - League of Legends Season 10\n",
      "Processed video #254: Dave Ramsey | The Ben Shapiro Show Sunday Special Ep. 36\n",
      "Processed video #255: I Meditated Every Day for a Month. Here's What Happened\n",
      "Processed video #256: Why Nikita Dragun Is Under Fire, John Bolton \"Resigns\", College Athlete Compensation, & WSP Day\n",
      "Processed video #257: my mii's future girlfriend...\n",
      "Processed video #258: My Cheap Mercedes E63 Wagon Might Be the Worst Car I Have Ever Owned ***BROKEN AGAIN***\n",
      "Processed video #259: Czy psy mają poczucie winy?\n",
      "Processed video #260: Slow Mo Molten Thermite in Water - The Slow Mo Guys\n",
      "Processed video #261: 9 Awesome Descent of Dragons Combos | Hearthstone\n",
      "Processed video #262: Martin Bormann: Hitlers Private Secretary\n",
      "Processed video #263: БЕЗРАМОЧНЫЙ ПОРТАЛ — ФИНАЛ | ВЫБРАЛСЯ ЗА ПРЕДЕЛЫ КАРТЫ 2b2t #10\n",
      "Processed video #264: DIGITAL RALLY WITH NEIL YOUNG\n",
      "Processed video #265: Can The Knee Beat Kirby's Stone?! [SMASH REVIEW #64]\n",
      "Processed video #266: Are Games Too Long? // HeavyEyed\n",
      "Processed video #267: Reading My Good(ish) DM Notes (AKA, How I write my games)\n",
      "Processed video #268: Stephen Strasburg and tipping pitches in the World Series, a breakdown\n",
      "Processed video #269: What NFL Coaching Job Is Most Wanted In 2020?\n",
      "Processed video #270: Moist Meter | Star Wars Jedi: Fallen Order\n",
      "Processed video #271: Black Nerds\n",
      "Processed video #272: Unsolved Mysteries of One Piece | Volume 3\n",
      "Processed video #273: U-SH 405 | ROCKET TURRET DEATH MACHINE (War Thunder)\n",
      "Processed video #274: Why Apple’s HomePod Is Failing\n",
      "Processed video #275: Destroying Kids in my Swimming Class\n"
     ]
    },
    {
     "name": "stderr",
     "output_type": "stream",
     "text": [
      "ERROR: B2ypFcHQBwI: YouTube said: Unable to extract video data\n"
     ]
    },
    {
     "name": "stdout",
     "output_type": "stream",
     "text": [
      "Processed video #276: Huge Abandoned Coal Mine with Cart Roller Coaster!\n",
      "Could not process video B2ypFcHQBwI\n",
      "Processed video #277: Imaqtpie - NEW SUPPORT MAIN... SUPPANYA\n",
      "Processed video #278: Dennis bestookt gemeentehuis met bijtende mieren\n",
      "Processed video #279: Sophos vs Malware\n",
      "Processed video #280: Ad Astra is Clickbait\n",
      "Processed video #281: OBS UPDATE 25: Vulkan & UWP Game Captures, Scene Importers (Everything you need to know)\n",
      "Processed video #282: Wireless CHARGING for Gaming Mice? -- Logitech G PowerPlay Review\n",
      "Processed video #283: Aventador Defeated by First Renter!\n",
      "Processed video #284: How Michael Thomas SHATTERED the NFL record books\n",
      "Processed video #285: ESPER CONTROL to SHUT DOWN Lukka Agent\n",
      "Processed video #286: 10 Best Butt Joint Methods | Woodworking Tips & Tricks\n",
      "Processed video #287: Speedzone-használt teszt: Audi A3 1.6(1998):Prémiumnak készült, használtként csak simán jó választás\n",
      "Processed video #288: Echo: Best Hero in the HISTORY of Overwatch - Overwatch Funny Moments 708\n"
     ]
    },
    {
     "name": "stderr",
     "output_type": "stream",
     "text": [
      "ERROR: jBCchveAB4I: YouTube said: Unable to extract video data\n"
     ]
    },
    {
     "name": "stdout",
     "output_type": "stream",
     "text": [
      "Could not process video jBCchveAB4I\n",
      "Processed video #289: How the Swiss Protected Hitler's Gold\n",
      "Processed video #290: Modern Warfare In Depth: PKM LMG Review (Best Weapon for Ground War)\n",
      "Processed video #291: Things I learned from Gorgc's PA | NO DEATHS\n",
      "Processed video #292: DIE BESTE GAMING TASTATUR FÜR UNTER 40 EURO! Sharkoon SGK5 im Test\n",
      "Processed video #293: Гарик Мартиросян х Олег Майами | ЧТО БЫЛО ДАЛЬШЕ? (Сабуров, Щербаков, Рептилоид, Тамби, Детков)\n",
      "Processed video #294: 6 \"Necessities\" I No Longer Need Since Moving To Europe | Making it Work\n",
      "Processed video #295: WOKE Writers End Up Single... Surprising? | Ep 127\n",
      "Processed video #296: Chris D'Elia & Toki the Dumdum | TigerBelly 80\n",
      "Processed video #297: WOTC heard that I liked \"Cats\" ... | Ikoria Story Preview\n",
      "Processed video #298: Path of Exile 3.9: METAMORPH DAY # 1 Highlights HEADHUNTER DAY 1, THE DAY OF THE RIPS AND BUGS\n",
      "Processed video #299: I Waited MONTHS for This!\n",
      "Processed video #300: UK Flat Earth Activist is Completely Useless!!\n",
      "Processed video #301: ✅Кто живёт в Чернобыльской Зоне? ☢ Как помочь отшельникам самосёлам в радиоактивном лесу\n",
      "Processed video #302: I LOVE MY TWINS!\n",
      "Processed video #303: How to Make the \"RAM-7\" OVERPOWERED in Modern Warfare..(BETTER THAN M4A1)\n",
      "Processed video #304: A Fuzwuz Winchester Challenge - chocoTaco PUBG Gameplay\n",
      "Processed video #305: Упоминание бога в Конституции / Лицензии для порноактеров и вебкам-моделей / Двойники Путина — миф?\n",
      "Processed video #306: Westworld And The Trouble With Ensembles\n",
      "Processed video #307: The Maus Super-Heavy Tank\n",
      "Processed video #308: Unsettling Breakfast\n",
      "Processed video #309: 5 Things That Make You a Mosquito Magnet\n",
      "Processed video #310: Leptin & Insulin Resistance Balancing Tips w/ Jason Fung, MD\n",
      "Processed video #311: Make a SUPER REALISTIC Snow Scene in After Effects Tutorial\n",
      "Processed video #312: Why Does The Toilet Have So Many Names?\n",
      "Processed video #313: SIE ist komplett BESOFFEN | #ungeklickt\n",
      "Processed video #314: Trope Talk: Accents\n",
      "Processed video #315: Why Squirrels Are the Greatest Threat to the Internet (Feat. Tierzoo)\n",
      "Processed video #316: What happens when nature goes viral?\n",
      "Processed video #317: Sony Full Frame Lenses BUYING GUIDE - Sony a7 III a7RIII a7RII a7SII a9\n",
      "Processed video #318: Eine Woche Porsche Taycan\n",
      "Processed video #319: Slijptol helpt ouderen in Rotterdam met voedselpakketten\n",
      "Processed video #320: Turn 3 One Turn Kill in Ranked With Kael'Thas | Ashes of Outland Hearthstone\n",
      "Processed video #321: Make your own Capacitive Touch Switch\n",
      "Processed video #322: YOU LAUGH? YOU LOSE! *MUSIC EDITION*\n",
      "Processed video #323: The MOST Intense *SOLO* OIL RIG Story - Rust\n",
      "Processed video #324: STOP EDITING YOUR COMMENTS\n",
      "Processed video #325: Surveillance Report EP. 13 | Weekly Security & Privacy News\n",
      "Processed video #326: Why did the Persian Empire Collapse?\n",
      "Processed video #327: Pretending to Join a \"VIRTUAL AIRLINE\" in Flight Simulator X (Multiplayer)\n",
      "Processed video #328: Lurrus Jeskai Cycling | IKO Standard | MTG Arena\n",
      "Processed video #329: Koenigsegg Proves You Don't Need A Straight Pipe Exhaust\n",
      "Processed video #330: Van Oud-Zuid naar het Zuiden - Heel Brabant gaat vreemd tijdens carnaval\n",
      "Processed video #331: Dual GPUs for OBS does NOT work - This suggestion will HURT your performance! Stream Guides\n",
      "Processed video #332: WOW… The Titans STOLE From The Shadowlands: The DIRECT Links That’ll DEFINE Future Lore\n",
      "Processed video #333: JE MODIFIE VOS PHOTOS GRATUITEMENT ( résultat incroyable )\n",
      "Processed video #334: PLEASE NO BULLY ! // War Thunder\n",
      "Processed video #335: Monkeying Around - Making 1B GP Starting As a Level 3 (#24)\n",
      "Processed video #336: The Million Year Ark\n",
      "Processed video #337: Unge REAGIERT auf Jans YouTube Burnout | #ungeklickt\n"
     ]
    },
    {
     "name": "stderr",
     "output_type": "stream",
     "text": [
      "ERROR: 73zAI7yAgKo: YouTube said: Unable to extract video data\n"
     ]
    },
    {
     "name": "stdout",
     "output_type": "stream",
     "text": [
      "Processed video #338: tmux - The Desktop Environment for your Terminal - Lunduke Show\n",
      "Could not process video 73zAI7yAgKo\n",
      "Processed video #339: What will the new NFL 2K game look like?\n",
      "Processed video #340: Stories from inside Microsoft (1998 - 2003)\n",
      "Processed video #341: Sex Toys Unboxing (please read description)\n",
      "Processed video #342: Ranking All the YouTube Rewinds\n",
      "Processed video #343: JE REFAIS VOS VIEUX LOGOS (gratuitement pour la visibilité)\n",
      "Processed video #344: Master Chief VS Doomguy (Halo VS Doom) | DEATH BATTLE!\n",
      "Processed video #345: WEEKEND PRODUCT LAUNCH vlog\n",
      "Processed video #346: Someone Stole my Spare Quad Plate Clutch. Out of my Insight\n",
      "Processed video #347: I Was WRONG. I Was SO WRONG. DO NOT BUY Walmart's Overpowered Gaming PCs!!!!\n",
      "Processed video #348: EVGA RTX 2080 Ti Kingpin PCB Review & Samsung vs. Micron\n",
      "Processed video #349: Les records du monde les plus Incroyables !\n",
      "Processed video #350: What Happened to PSY - Much More Than Just Gangnam Style\n",
      "Processed video #351: Fight To Not Be Taken To A Second Location\n",
      "Processed video #352: MEMES TO WATCH BEFORE CRUSADING PART 2\n",
      "Processed video #353: This algorithm decodes rat squeaks and could revolutionize animal research\n",
      "Processed video #354: ✅Самодельный Баги Карт из мотоцикла Ява 😃 Зверская машинка\n"
     ]
    },
    {
     "name": "stderr",
     "output_type": "stream",
     "text": [
      "ERROR: 2uOG2-gwjyk: YouTube said: Unable to extract video data\n"
     ]
    },
    {
     "name": "stdout",
     "output_type": "stream",
     "text": [
      "Could not process video 2uOG2-gwjyk\n",
      "Processed video #355: Here's how you play a HEALER (Destiny 2)\n",
      "Processed video #356: GIVING my OPPONENT GOOD CARDS and WINNING? 🍊\n",
      "Processed video #357: Реутов ТВ: понять Россию через юмор / вДудь\n",
      "Processed video #358: Why Scottie Pippen Was As Important As Michael Jordan\n",
      "Processed video #359: RTX 3080 CPU Benchmark, AMD Ryzen 9 3950X vs. Intel Core i9 10900K\n",
      "Processed video #360: ИгроСториз: PS5 и Xbox Series X — успех или позор?\n",
      "Processed video #361: EVE V Tablet - Crowdsourced Surface Competitor (NO LONGER AVAILABLE)\n",
      "Processed video #362: Jeffree Star faked everything about... well, everything.\n",
      "Processed video #363: Joe Burrow is a SAVAGE!\n",
      "Processed video #364: I'm Fixing my C10 Fuel Cell and Giving Away a New Miller Welder! Finnegan's Garage Ep.100\n",
      "Processed video #365: ULTIMATE TIK TOK CRINGE MEMES #69 (ayy)\n",
      "Processed video #366: 3 Bizarre Love Triangles That Ended in Murder\n",
      "Processed video #367: Dota 2 WTF Moments 367\n",
      "Processed video #368: Minecraft: \"Crown\" Trials Ep. 11\n",
      "Processed video #369: The president of South Africa's Numbers - Cringe Tuesdays #7\n",
      "Processed video #370: Condom Time - Let's Play\n",
      "Processed video #371: chocoTaco Tries CoD 2v2 Tournament Mode ft. chun - Call of Duty Gameplay\n",
      "Processed video #372: I Bought A House At 24 | My Full House Tour!\n",
      "Processed video #373: Social Media Couple Targeted\n",
      "Processed video #374: FORD против FERRARI: как все было на самом деле\n",
      "Processed video #375: So MrBeast Challenged Me! 1 Death = Giveaway $1000\n",
      "Processed video #376: NEW GUILD/ALLY SANDBOX + LIVE PVP GAME MODE 100% POSSIBLE FOR SWGOH! Why Can't SWGoH Have This?\n",
      "Processed video #377: Win Tic-Tac-Toe by LOSING?!\n",
      "Processed video #378: Galaxy Note 10 Hands-On: Samsung's Superphone Gets A Magic Wand\n",
      "Processed video #379: KV-2 IS BACK B*TCHES!!!\n",
      "Processed video #380: Самое быстрое прохождение Star Wars Jedi: Fallen Order [Разбор спидрана]\n",
      "Processed video #381: I Made a Soap Inspired by Pride & Prejudice 🌹Pemberley Gardens Soap Making | Royalty Soaps\n",
      "Processed video #382: I Finally 1v1'd Truevanguard!\n",
      "Processed video #383: The VERY Messed up Origins of John Henry | Fables Explained - Jon Solo\n",
      "Processed video #384: 15 CRAZY WAYS To ☠️ in Fortnite!\n",
      "Processed video #385: Start CRUSHING your INSTAGRAM game!!\n",
      "Processed video #386: You Could Wring Me Out Like a Towel - #561 | RT Podcast\n",
      "Processed video #387: Tout seuls dans un parc aquatique\n"
     ]
    },
    {
     "name": "stderr",
     "output_type": "stream",
     "text": [
      "ERROR: sAAtOn-c3DU: YouTube said: Unable to extract video data\n"
     ]
    },
    {
     "name": "stdout",
     "output_type": "stream",
     "text": [
      "Processed video #388: America’s War On Tumbleweeds\n",
      "Could not process video sAAtOn-c3DU\n",
      "Processed video #389: Werkbank und Shelter - Prepper Camp #009 | Fritz Meinecke\n",
      "Processed video #390: Are these systems REALLY worth the effort?\n"
     ]
    }
   ],
   "source": [
    "videos = dict()  # video_id -> Video \n",
    "\n",
    "with open(\"segments.csv\", \"r\") as f:\n",
    "    csv_reader = csv.reader(f, delimiter=',')\n",
    "    for row in csv_reader:\n",
    "        video_id = row[0]\n",
    "\n",
    "        # Let's sample 1% of all video IDs:\n",
    "        random.seed(video_id)\n",
    "        if random.uniform(0, 1) > 0.01:\n",
    "            continue\n",
    "        \n",
    "        start_timestamp = float(row[1])\n",
    "        end_timestamp = float(row[2])\n",
    "        \n",
    "        try:\n",
    "            if video_id not in videos:\n",
    "                videos[video_id] = Video(video_id, [], pafy.new(video_id))\n",
    "                print(\"Processed video #%d: %s\" % (len(videos.items()), videos[video_id].pafy.title))\n",
    "            videos[video_id].segments.append(np.array([start_timestamp, end_timestamp]))\n",
    "        except:\n",
    "            print(\"Could not process video %s\" % video_id)\n",
    "        \n"
   ]
  },
  {
   "cell_type": "code",
   "execution_count": 5,
   "metadata": {},
   "outputs": [],
   "source": [
    "# Merge overlapping segments.\n",
    "for video in videos.values():\n",
    "    merge_overlapping_intervals(video.segments)"
   ]
  },
  {
   "cell_type": "code",
   "execution_count": 19,
   "metadata": {},
   "outputs": [],
   "source": [
    "# Let's take a look at some stats here.\n",
    "def compute_stats(v):\n",
    "    length = v.pafy.length\n",
    "    \n",
    "    segments = np.array(v.segments)\n",
    "    total_segment_length = np.sum(segments[:, 1] - segments[:, 0])\n",
    "    \n",
    "    segment_ratio = total_segment_length / length\n",
    "    \n",
    "    return v, length, total_segment_length, segment_ratio\n",
    "    \n",
    "stats = [compute_stats(v) for v in videos.values()]\n",
    "# Sort by decreasing segment ratio.\n",
    "stats.sort(key=lambda x: -x[2])\n",
    "\n",
    "_, video_lengths, total_segment_lengths, segment_ratios = zip(*stats)"
   ]
  },
  {
   "cell_type": "code",
   "execution_count": 20,
   "metadata": {},
   "outputs": [],
   "source": [
    "from scipy.stats import describe"
   ]
  },
  {
   "cell_type": "code",
   "execution_count": 21,
   "metadata": {},
   "outputs": [
    {
     "name": "stdout",
     "output_type": "stream",
     "text": [
      "DescribeResult(nobs=390, minmax=(92, 26133), mean=1249.3333333333333, variance=3486314.5107112247, skewness=7.863723252680748, kurtosis=86.76541929196647)\n",
      "DescribeResult(nobs=390, minmax=(1.1509940000000003, 1381.4160960000008), mean=59.29610081371311, variance=8354.080342361867, skewness=8.47331157579276, kurtosis=111.78246878455114)\n",
      "DescribeResult(nobs=390, minmax=(0.0016372603129445238, 0.5357235919732442), mean=0.06340330732256481, variance=0.0044048296201444175, skewness=2.3455079722704464, kurtosis=8.639189319499005)\n"
     ]
    }
   ],
   "source": [
    "print(describe(video_lengths))\n",
    "\n",
    "print(describe(total_segment_lengths))\n",
    "\n",
    "print(describe(segment_ratios))"
   ]
  },
  {
   "cell_type": "code",
   "execution_count": 23,
   "metadata": {},
   "outputs": [
    {
     "data": {
      "text/plain": [
       "(Video(video_id='t3pI3JLsdpA', segments=[array([1343.728749, 1703.497484])], pafy=Title: MrBeast - H3 Podcast #111\n",
       " Author: H3 Podcast\n",
       " ID: t3pI3JLsdpA\n",
       " Duration: 01:15:02\n",
       " Rating: 4.8653631\n",
       " Views: 1514758\n",
       " Thumbnail: http://i.ytimg.com/vi/t3pI3JLsdpA/default.jpg),\n",
       " 4502,\n",
       " 359.7687349999999,\n",
       " 0.07991309084851174)"
      ]
     },
     "execution_count": 23,
     "metadata": {},
     "output_type": "execute_result"
    }
   ],
   "source": [
    "# What video has the worst ratio?\n",
    "stats[2]"
   ]
  },
  {
   "cell_type": "code",
   "execution_count": null,
   "metadata": {},
   "outputs": [],
   "source": []
  }
 ],
 "metadata": {
  "kernelspec": {
   "display_name": "Python 3",
   "language": "python",
   "name": "python3"
  },
  "language_info": {
   "codemirror_mode": {
    "name": "ipython",
    "version": 3
   },
   "file_extension": ".py",
   "mimetype": "text/x-python",
   "name": "python",
   "nbconvert_exporter": "python",
   "pygments_lexer": "ipython3",
   "version": "3.8.3"
  }
 },
 "nbformat": 4,
 "nbformat_minor": 4
}
