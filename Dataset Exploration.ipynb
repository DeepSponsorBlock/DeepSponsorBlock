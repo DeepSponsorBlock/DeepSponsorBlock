{
 "cells": [
  {
   "cell_type": "code",
   "execution_count": 1,
   "metadata": {},
   "outputs": [],
   "source": [
    "import pathlib\n",
    "from data_collection import Video, load_segments"
   ]
  },
  {
   "cell_type": "code",
   "execution_count": 2,
   "metadata": {},
   "outputs": [],
   "source": [
    "v = load_segments(\"segments.csv\")"
   ]
  },
  {
   "cell_type": "code",
   "execution_count": 3,
   "metadata": {},
   "outputs": [],
   "source": [
    "w = list(v.values())[315]"
   ]
  },
  {
   "cell_type": "code",
   "execution_count": 4,
   "metadata": {},
   "outputs": [
    {
     "data": {
      "text/plain": [
       "608"
      ]
     },
     "execution_count": 4,
     "metadata": {},
     "output_type": "execute_result"
    }
   ],
   "source": [
    "w.pafy_obj.length"
   ]
  },
  {
   "cell_type": "code",
   "execution_count": 5,
   "metadata": {},
   "outputs": [
    {
     "data": {
      "text/plain": [
       "True"
      ]
     },
     "execution_count": 5,
     "metadata": {},
     "output_type": "execute_result"
    }
   ],
   "source": [
    "w.download(pathlib.Path(\"downloads/\"), fps=1)"
   ]
  },
  {
   "cell_type": "code",
   "execution_count": 6,
   "metadata": {},
   "outputs": [],
   "source": [
    "if False:\n",
    "    from scipy.stats import describe\n",
    "\n",
    "    # Let's take a look at some stats here.\n",
    "    def compute_stats(v):\n",
    "        length = v.pafy.length\n",
    "\n",
    "        segments = np.array(v.segments)\n",
    "        total_segment_length = np.sum(segments[:, 1] - segments[:, 0])\n",
    "\n",
    "        segment_ratio = total_segment_length / length\n",
    "\n",
    "        return v, length, total_segment_length, segment_ratio\n",
    "\n",
    "    stats = [compute_stats(v) for v in np.random.choice(list(videos.values()), 100)]\n",
    "    # Sort by decreasing segment ratio.\n",
    "    stats.sort(key=lambda x: -x[2])\n",
    "\n",
    "    _, video_lengths, total_segment_lengths, segment_ratios = zip(*stats)\n",
    "\n",
    "    print(describe(video_lengths))\n",
    "\n",
    "    print(describe(total_segment_lengths))\n",
    "\n",
    "    print(describe(segment_ratios))"
   ]
  }
 ],
 "metadata": {
  "kernelspec": {
   "display_name": "Python 3",
   "language": "python",
   "name": "python3"
  },
  "language_info": {
   "codemirror_mode": {
    "name": "ipython",
    "version": 3
   },
   "file_extension": ".py",
   "mimetype": "text/x-python",
   "name": "python",
   "nbconvert_exporter": "python",
   "pygments_lexer": "ipython3",
   "version": "3.7.9"
  }
 },
 "nbformat": 4,
 "nbformat_minor": 4
}
